{
 "cells": [
  {
   "cell_type": "code",
   "execution_count": null,
   "metadata": {
    "scrolled": true
   },
   "outputs": [],
   "source": [
    "from pynq import Overlay\n",
    "overlay = Overlay(\"sha256.bit\")"
   ]
  },
  {
   "cell_type": "code",
   "execution_count": 18,
   "metadata": {
    "collapsed": true
   },
   "outputs": [
    {
     "data": {
      "text/plain": [
       "{'sha256_0': {'addr_range': 65536,\n",
       "  'device': <pynq.pl_server.device.XlnkDevice at 0xb024e4d0>,\n",
       "  'driver': pynq.overlay.DefaultIP,\n",
       "  'fullpath': 'sha256_0',\n",
       "  'gpio': {},\n",
       "  'interrupts': {},\n",
       "  'mem_id': 's_axi_ctrl_bus',\n",
       "  'parameters': {'C_M_AXI_INPUT_R_ADDR_WIDTH': '32',\n",
       "   'C_M_AXI_INPUT_R_ARUSER_WIDTH': '1',\n",
       "   'C_M_AXI_INPUT_R_AWUSER_WIDTH': '1',\n",
       "   'C_M_AXI_INPUT_R_BUSER_WIDTH': '1',\n",
       "   'C_M_AXI_INPUT_R_CACHE_VALUE': '\"0011\"',\n",
       "   'C_M_AXI_INPUT_R_DATA_WIDTH': '32',\n",
       "   'C_M_AXI_INPUT_R_ENABLE_ID_PORTS': 'false',\n",
       "   'C_M_AXI_INPUT_R_ENABLE_USER_PORTS': 'false',\n",
       "   'C_M_AXI_INPUT_R_ID_WIDTH': '1',\n",
       "   'C_M_AXI_INPUT_R_PROT_VALUE': '\"000\"',\n",
       "   'C_M_AXI_INPUT_R_RUSER_WIDTH': '1',\n",
       "   'C_M_AXI_INPUT_R_USER_VALUE': '0x00000000',\n",
       "   'C_M_AXI_INPUT_R_WUSER_WIDTH': '1',\n",
       "   'C_M_AXI_OUTPUT_R_ADDR_WIDTH': '32',\n",
       "   'C_M_AXI_OUTPUT_R_ARUSER_WIDTH': '1',\n",
       "   'C_M_AXI_OUTPUT_R_AWUSER_WIDTH': '1',\n",
       "   'C_M_AXI_OUTPUT_R_BUSER_WIDTH': '1',\n",
       "   'C_M_AXI_OUTPUT_R_CACHE_VALUE': '\"0011\"',\n",
       "   'C_M_AXI_OUTPUT_R_DATA_WIDTH': '32',\n",
       "   'C_M_AXI_OUTPUT_R_ENABLE_ID_PORTS': 'false',\n",
       "   'C_M_AXI_OUTPUT_R_ENABLE_USER_PORTS': 'false',\n",
       "   'C_M_AXI_OUTPUT_R_ID_WIDTH': '1',\n",
       "   'C_M_AXI_OUTPUT_R_PROT_VALUE': '\"000\"',\n",
       "   'C_M_AXI_OUTPUT_R_RUSER_WIDTH': '1',\n",
       "   'C_M_AXI_OUTPUT_R_USER_VALUE': '0x00000000',\n",
       "   'C_M_AXI_OUTPUT_R_WUSER_WIDTH': '1',\n",
       "   'C_S_AXI_CTRL_BUS_ADDR_WIDTH': '6',\n",
       "   'C_S_AXI_CTRL_BUS_BASEADDR': '0x43C00000',\n",
       "   'C_S_AXI_CTRL_BUS_DATA_WIDTH': '32',\n",
       "   'C_S_AXI_CTRL_BUS_HIGHADDR': '0x43C0FFFF',\n",
       "   'Component_Name': 'design_1_sha256_0_0',\n",
       "   'EDK_IPTYPE': 'PERIPHERAL',\n",
       "   'II': 'x',\n",
       "   'clk_period': '10',\n",
       "   'combinational': '0',\n",
       "   'latency': '308',\n",
       "   'machine': '64'},\n",
       "  'phys_addr': 1136656384,\n",
       "  'registers': {'hash': {'access': 'write-only',\n",
       "    'address_offset': 32,\n",
       "    'description': 'Data signal of hash',\n",
       "    'fields': {'hash': {'access': 'write-only',\n",
       "      'bit_offset': 0,\n",
       "      'bit_width': 32,\n",
       "      'description': 'Data signal of hash'}},\n",
       "    'size': 32},\n",
       "   'len': {'access': 'write-only',\n",
       "    'address_offset': 24,\n",
       "    'description': 'Data signal of len',\n",
       "    'fields': {'len': {'access': 'write-only',\n",
       "      'bit_offset': 0,\n",
       "      'bit_width': 32,\n",
       "      'description': 'Data signal of len'}},\n",
       "    'size': 32},\n",
       "   'msg': {'access': 'write-only',\n",
       "    'address_offset': 16,\n",
       "    'description': 'Data signal of msg',\n",
       "    'fields': {'msg': {'access': 'write-only',\n",
       "      'bit_offset': 0,\n",
       "      'bit_width': 32,\n",
       "      'description': 'Data signal of msg'}},\n",
       "    'size': 32}},\n",
       "  'state': None,\n",
       "  'type': 'xilinx.com:hls:sha256:1.0'}}"
      ]
     },
     "execution_count": 18,
     "metadata": {},
     "output_type": "execute_result"
    }
   ],
   "source": [
    "sha256_ip = overlay.sha256_0\n",
    "sha256_ip?\n",
    "sha256_ip.mmio\n",
    "overlay.ip_dict"
   ]
  },
  {
   "cell_type": "code",
   "execution_count": 48,
   "metadata": {},
   "outputs": [
    {
     "name": "stdout",
     "output_type": "stream",
     "text": [
      "127e6fbfe24a750e72930c220a8e138275656b8e5d8f48a98c3c92df2caba935\n"
     ]
    }
   ],
   "source": [
    "from pynq import Xlnk\n",
    "import numpy as np\n",
    "xlnk = Xlnk()\n",
    "IN = xlnk.cma_array(shape=64, dtype=np.uint8)\n",
    "in_buffer_address=IN.physical_address\n",
    "OUT = xlnk.cma_array(shape=32, dtype=np.uint8)\n",
    "out_buffer_address=OUT.physical_address\n",
    "IN = \"hashcat\"\n",
    "LEN = 7\n",
    "from pynq import MMIO\n",
    "mmio = MMIO(in_buffer_address,64)\n",
    "mmio.write(0x10,in_buffer_address)\n",
    "mmio.write(0x20,out_buffer_address)\n",
    "mmio.write(0x18,LEN)\n",
    "OUT"
   ]
  },
  {
   "cell_type": "code",
   "execution_count": null,
   "metadata": {},
   "outputs": [],
   "source": []
  }
 ],
 "metadata": {
  "kernelspec": {
   "display_name": "Python 3",
   "language": "python",
   "name": "python3"
  },
  "language_info": {
   "codemirror_mode": {
    "name": "ipython",
    "version": 3
   },
   "file_extension": ".py",
   "mimetype": "text/x-python",
   "name": "python",
   "nbconvert_exporter": "python",
   "pygments_lexer": "ipython3",
   "version": "3.6.5"
  }
 },
 "nbformat": 4,
 "nbformat_minor": 2
}
